{
 "cells": [
  {
   "cell_type": "markdown",
   "id": "87619db6",
   "metadata": {},
   "source": [
    "# Experiment result analysis"
   ]
  },
  {
   "cell_type": "code",
   "execution_count": 1,
   "id": "ddf97313",
   "metadata": {},
   "outputs": [],
   "source": [
    "import matplotlib.pyplot as plt\n",
    "import numpy as np\n",
    "import pandas as pd\n",
    "import re\n",
    "plt.style.use('ggplot')"
   ]
  },
  {
   "cell_type": "code",
   "execution_count": 2,
   "id": "5ba40e68",
   "metadata": {},
   "outputs": [],
   "source": [
    "def parse_thread_results(filename):\n",
    "    with open(filename, 'r') as file:\n",
    "        text_content = file.read()\n",
    "\n",
    "    sections = [\n",
    "        r'=== (\\d+) Threads? per process ===',\n",
    "        r'=== (\\d+) Thread per process ==='\n",
    "    ]\n",
    "    results = []\n",
    "    for section in sections:\n",
    "        # Find all thread experiment sections\n",
    "        matches = list(re.finditer(section, text_content))\n",
    "        for match in matches:\n",
    "            threads = int(match.group(1))\n",
    "            start_pos = match.start()\n",
    "            \n",
    "            # Find the end of this experiment (next thread experiment or end of file)\n",
    "            next_match = None\n",
    "            for next_pattern in sections:\n",
    "                next_matches = list(re.finditer(next_pattern, text_content[start_pos + 10:]))\n",
    "                if next_matches:\n",
    "                    next_match = next_matches[0]\n",
    "                    break\n",
    "            \n",
    "            if next_match:\n",
    "                end_pos = start_pos + 10 + next_match.start()\n",
    "                experiment_text = text_content[start_pos:end_pos]\n",
    "            else:\n",
    "                experiment_text = text_content[start_pos:]\n",
    "            \n",
    "            \n",
    "            algorithms_patterns = r\"Algorithm:\\s*([^\\n]+)\"\n",
    "            mpi_processes_patterns = r\"MPI processes:\\s*(\\d+)\"\n",
    "            time_patterns = r\"Total execution time:\\s*([\\d.]+)\\s*ms\"\n",
    "\n",
    "            algorithms_match = re.search(algorithms_patterns, experiment_text)\n",
    "            mpi_processes_match = re.search(mpi_processes_patterns, experiment_text)\n",
    "            time_match = re.search(time_patterns, experiment_text)\n",
    "            if algorithms_match and mpi_processes_match and time_match:\n",
    "                result = {\n",
    "                    'algorithm': algorithms_match.group(1).strip(),\n",
    "                    'mpi_processes': int(mpi_processes_match.group(1)),\n",
    "                    'threads': threads,\n",
    "                    'time(ms)': float(time_match.group(1).strip())\n",
    "                }\n",
    "                results.append(result)\n",
    "\n",
    "    return results"
   ]
  },
  {
   "cell_type": "code",
   "execution_count": 3,
   "id": "bdab0427",
   "metadata": {},
   "outputs": [
    {
     "name": "stdout",
     "output_type": "stream",
     "text": [
      "[{'algorithm': 'sw', 'mpi_processes': 4, 'threads': 1, 'time(ms)': 1825.0}, {'algorithm': 'sw', 'mpi_processes': 4, 'threads': 2, 'time(ms)': 1506.0}, {'algorithm': 'sw', 'mpi_processes': 4, 'threads': 4, 'time(ms)': 17178.0}, {'algorithm': 'sw', 'mpi_processes': 4, 'threads': 8, 'time(ms)': 233605.0}, {'algorithm': 'sw', 'mpi_processes': 4, 'threads': 1, 'time(ms)': 1825.0}]\n"
     ]
    }
   ],
   "source": [
    "thread_results = parse_thread_results('thread_results.txt')\n",
    "print(thread_results)\n",
    "\n",
    "thread_df = pd.DataFrame(thread_results)\n"
   ]
  },
  {
   "cell_type": "code",
   "execution_count": 4,
   "id": "706dfacd",
   "metadata": {},
   "outputs": [
    {
     "data": {
      "application/vnd.microsoft.datawrangler.viewer.v0+json": {
       "columns": [
        {
         "name": "index",
         "rawType": "int64",
         "type": "integer"
        },
        {
         "name": "algorithm",
         "rawType": "object",
         "type": "string"
        },
        {
         "name": "mpi_processes",
         "rawType": "int64",
         "type": "integer"
        },
        {
         "name": "threads",
         "rawType": "int64",
         "type": "integer"
        },
        {
         "name": "time(ms)",
         "rawType": "float64",
         "type": "float"
        }
       ],
       "ref": "af5a5287-b168-421d-b62b-e4ee8ff67d7d",
       "rows": [
        [
         "0",
         "sw",
         "4",
         "1",
         "1825.0"
        ],
        [
         "1",
         "sw",
         "4",
         "2",
         "1506.0"
        ],
        [
         "2",
         "sw",
         "4",
         "4",
         "17178.0"
        ],
        [
         "3",
         "sw",
         "4",
         "8",
         "233605.0"
        ],
        [
         "4",
         "sw",
         "4",
         "1",
         "1825.0"
        ]
       ],
       "shape": {
        "columns": 4,
        "rows": 5
       }
      },
      "text/html": [
       "<div>\n",
       "<style scoped>\n",
       "    .dataframe tbody tr th:only-of-type {\n",
       "        vertical-align: middle;\n",
       "    }\n",
       "\n",
       "    .dataframe tbody tr th {\n",
       "        vertical-align: top;\n",
       "    }\n",
       "\n",
       "    .dataframe thead th {\n",
       "        text-align: right;\n",
       "    }\n",
       "</style>\n",
       "<table border=\"1\" class=\"dataframe\">\n",
       "  <thead>\n",
       "    <tr style=\"text-align: right;\">\n",
       "      <th></th>\n",
       "      <th>algorithm</th>\n",
       "      <th>mpi_processes</th>\n",
       "      <th>threads</th>\n",
       "      <th>time(ms)</th>\n",
       "    </tr>\n",
       "  </thead>\n",
       "  <tbody>\n",
       "    <tr>\n",
       "      <th>0</th>\n",
       "      <td>sw</td>\n",
       "      <td>4</td>\n",
       "      <td>1</td>\n",
       "      <td>1825.0</td>\n",
       "    </tr>\n",
       "    <tr>\n",
       "      <th>1</th>\n",
       "      <td>sw</td>\n",
       "      <td>4</td>\n",
       "      <td>2</td>\n",
       "      <td>1506.0</td>\n",
       "    </tr>\n",
       "    <tr>\n",
       "      <th>2</th>\n",
       "      <td>sw</td>\n",
       "      <td>4</td>\n",
       "      <td>4</td>\n",
       "      <td>17178.0</td>\n",
       "    </tr>\n",
       "    <tr>\n",
       "      <th>3</th>\n",
       "      <td>sw</td>\n",
       "      <td>4</td>\n",
       "      <td>8</td>\n",
       "      <td>233605.0</td>\n",
       "    </tr>\n",
       "    <tr>\n",
       "      <th>4</th>\n",
       "      <td>sw</td>\n",
       "      <td>4</td>\n",
       "      <td>1</td>\n",
       "      <td>1825.0</td>\n",
       "    </tr>\n",
       "  </tbody>\n",
       "</table>\n",
       "</div>"
      ],
      "text/plain": [
       "  algorithm  mpi_processes  threads  time(ms)\n",
       "0        sw              4        1    1825.0\n",
       "1        sw              4        2    1506.0\n",
       "2        sw              4        4   17178.0\n",
       "3        sw              4        8  233605.0\n",
       "4        sw              4        1    1825.0"
      ]
     },
     "execution_count": 4,
     "metadata": {},
     "output_type": "execute_result"
    }
   ],
   "source": [
    "thread_df"
   ]
  },
  {
   "cell_type": "code",
   "execution_count": 5,
   "id": "17f7d0a3",
   "metadata": {},
   "outputs": [],
   "source": [
    "def parse_scaling_results(filename):\n",
    "    with open(filename, 'r') as file:\n",
    "        text_content = file.read()\n",
    "\n",
    "    sections = [\n",
    "        r'=== (\\d+) Process ===',\n",
    "        r'=== (\\d+) Processes ==='\n",
    "    ]\n",
    "    results = []\n",
    "    for section in sections:\n",
    "        # Find all  experiment sections\n",
    "        matches = list(re.finditer(section, text_content))\n",
    "        for match in matches:\n",
    "            start_pos = match.start()\n",
    "\n",
    "            # Find the end of this experiment (next process experiment or end of file)\n",
    "            next_match = None\n",
    "            for next_pattern in sections:\n",
    "                next_matches = list(re.finditer(next_pattern, text_content[start_pos + 10:]))\n",
    "                if next_matches:\n",
    "                    next_match = next_matches[0]\n",
    "                    break\n",
    "            \n",
    "            if next_match:\n",
    "                end_pos = start_pos + 10 + next_match.start()\n",
    "                text = text_content[start_pos:end_pos]\n",
    "            else:\n",
    "                text = text_content[start_pos:]\n",
    "                \n",
    "            # Split by algorithm sections\n",
    "            simple_start = text.find('Simple Algorithm:')\n",
    "            sw_start = text.find('Smith-Waterman Algorithm:')\n",
    "            \n",
    "            # Process Simple Algorithm\n",
    "            if simple_start != -1:\n",
    "                # Get text from Simple Algorithm start to Smith-Waterman start (or end)\n",
    "                if sw_start != -1:\n",
    "                    simple_text = text[simple_start:sw_start]\n",
    "                else:\n",
    "                    simple_text = text[simple_start:]\n",
    "                \n",
    "                # Extract data for Simple Algorithm\n",
    "                mpi_match = re.search(r'MPI Processes:\\s*(\\d+)', simple_text)\n",
    "                threads_match = re.search(r'OpenMP Threads per process:\\s*(\\d+)', simple_text)\n",
    "                time_match = re.search(r'Total execution time:\\s*(\\d+)\\s*ms', simple_text)\n",
    "                \n",
    "                if mpi_match and threads_match and time_match:\n",
    "                    result = {\n",
    "                        'algorithm': 'Simple Sliding Window',\n",
    "                        'mpi_processes': int(mpi_match.group(1)),\n",
    "                        'openmp_threads': int(threads_match.group(1)),\n",
    "                        'time_ms': int(time_match.group(1))\n",
    "                    }\n",
    "                    results.append(result)\n",
    "                    print(f\"Simple: MPI={result['mpi_processes']}, Threads={result['openmp_threads']}, Time={result['time_ms']}ms\")\n",
    "            \n",
    "            # Process Smith-Waterman Algorithm\n",
    "            if sw_start != -1:\n",
    "                sw_text = text[sw_start:]\n",
    "                \n",
    "                # Extract data for Smith-Waterman Algorithm\n",
    "                mpi_match = re.search(r'MPI Processes:\\s*(\\d+)', sw_text)\n",
    "                threads_match = re.search(r'OpenMP Threads per process:\\s*(\\d+)', sw_text)\n",
    "                time_match = re.search(r'Total execution time:\\s*(\\d+)\\s*ms', sw_text)\n",
    "                \n",
    "                if mpi_match and threads_match and time_match:\n",
    "                    result = {\n",
    "                        'algorithm': 'Smith-Waterman Local Alignment',\n",
    "                        'mpi_processes': int(mpi_match.group(1)),\n",
    "                        'openmp_threads': int(threads_match.group(1)),\n",
    "                        'time_ms': int(time_match.group(1))\n",
    "                    }\n",
    "                    results.append(result)\n",
    "                    print(f\"Smith-Waterman: MPI={result['mpi_processes']}, Threads={result['openmp_threads']}, Time={result['time_ms']}ms\")\n",
    "            \n",
    "    return results"
   ]
  },
  {
   "cell_type": "code",
   "execution_count": 6,
   "id": "11d45b4f",
   "metadata": {},
   "outputs": [
    {
     "name": "stdout",
     "output_type": "stream",
     "text": [
      "Simple: MPI=2, Threads=2, Time=20ms\n",
      "Smith-Waterman: MPI=2, Threads=2, Time=2873ms\n",
      "Simple: MPI=4, Threads=2, Time=64ms\n",
      "Smith-Waterman: MPI=4, Threads=2, Time=1426ms\n",
      "Simple: MPI=8, Threads=2, Time=109ms\n",
      "Smith-Waterman: MPI=8, Threads=2, Time=1833ms\n"
     ]
    },
    {
     "data": {
      "application/vnd.microsoft.datawrangler.viewer.v0+json": {
       "columns": [
        {
         "name": "index",
         "rawType": "int64",
         "type": "integer"
        },
        {
         "name": "algorithm",
         "rawType": "object",
         "type": "string"
        },
        {
         "name": "mpi_processes",
         "rawType": "int64",
         "type": "integer"
        },
        {
         "name": "openmp_threads",
         "rawType": "int64",
         "type": "integer"
        },
        {
         "name": "time_ms",
         "rawType": "int64",
         "type": "integer"
        }
       ],
       "ref": "e2b3c916-c9a3-4e6b-a5fe-f2554c625569",
       "rows": [
        [
         "0",
         "Simple Sliding Window",
         "2",
         "2",
         "20"
        ],
        [
         "1",
         "Smith-Waterman Local Alignment",
         "2",
         "2",
         "2873"
        ],
        [
         "2",
         "Simple Sliding Window",
         "4",
         "2",
         "64"
        ],
        [
         "3",
         "Smith-Waterman Local Alignment",
         "4",
         "2",
         "1426"
        ],
        [
         "4",
         "Simple Sliding Window",
         "8",
         "2",
         "109"
        ],
        [
         "5",
         "Smith-Waterman Local Alignment",
         "8",
         "2",
         "1833"
        ]
       ],
       "shape": {
        "columns": 4,
        "rows": 6
       }
      },
      "text/html": [
       "<div>\n",
       "<style scoped>\n",
       "    .dataframe tbody tr th:only-of-type {\n",
       "        vertical-align: middle;\n",
       "    }\n",
       "\n",
       "    .dataframe tbody tr th {\n",
       "        vertical-align: top;\n",
       "    }\n",
       "\n",
       "    .dataframe thead th {\n",
       "        text-align: right;\n",
       "    }\n",
       "</style>\n",
       "<table border=\"1\" class=\"dataframe\">\n",
       "  <thead>\n",
       "    <tr style=\"text-align: right;\">\n",
       "      <th></th>\n",
       "      <th>algorithm</th>\n",
       "      <th>mpi_processes</th>\n",
       "      <th>openmp_threads</th>\n",
       "      <th>time_ms</th>\n",
       "    </tr>\n",
       "  </thead>\n",
       "  <tbody>\n",
       "    <tr>\n",
       "      <th>0</th>\n",
       "      <td>Simple Sliding Window</td>\n",
       "      <td>2</td>\n",
       "      <td>2</td>\n",
       "      <td>20</td>\n",
       "    </tr>\n",
       "    <tr>\n",
       "      <th>1</th>\n",
       "      <td>Smith-Waterman Local Alignment</td>\n",
       "      <td>2</td>\n",
       "      <td>2</td>\n",
       "      <td>2873</td>\n",
       "    </tr>\n",
       "    <tr>\n",
       "      <th>2</th>\n",
       "      <td>Simple Sliding Window</td>\n",
       "      <td>4</td>\n",
       "      <td>2</td>\n",
       "      <td>64</td>\n",
       "    </tr>\n",
       "    <tr>\n",
       "      <th>3</th>\n",
       "      <td>Smith-Waterman Local Alignment</td>\n",
       "      <td>4</td>\n",
       "      <td>2</td>\n",
       "      <td>1426</td>\n",
       "    </tr>\n",
       "    <tr>\n",
       "      <th>4</th>\n",
       "      <td>Simple Sliding Window</td>\n",
       "      <td>8</td>\n",
       "      <td>2</td>\n",
       "      <td>109</td>\n",
       "    </tr>\n",
       "    <tr>\n",
       "      <th>5</th>\n",
       "      <td>Smith-Waterman Local Alignment</td>\n",
       "      <td>8</td>\n",
       "      <td>2</td>\n",
       "      <td>1833</td>\n",
       "    </tr>\n",
       "  </tbody>\n",
       "</table>\n",
       "</div>"
      ],
      "text/plain": [
       "                        algorithm  mpi_processes  openmp_threads  time_ms\n",
       "0           Simple Sliding Window              2               2       20\n",
       "1  Smith-Waterman Local Alignment              2               2     2873\n",
       "2           Simple Sliding Window              4               2       64\n",
       "3  Smith-Waterman Local Alignment              4               2     1426\n",
       "4           Simple Sliding Window              8               2      109\n",
       "5  Smith-Waterman Local Alignment              8               2     1833"
      ]
     },
     "execution_count": 6,
     "metadata": {},
     "output_type": "execute_result"
    }
   ],
   "source": [
    "scaling_result = parse_scaling_results('scaling_results.txt')\n",
    "scaling_result_df = pd.DataFrame(scaling_result)\n",
    "scaling_result_df"
   ]
  },
  {
   "cell_type": "code",
   "execution_count": 7,
   "id": "4e9ef7cf",
   "metadata": {},
   "outputs": [],
   "source": [
    "def parse_algorithm_results(filename):\n",
    "    with open(filename, 'r') as file:\n",
    "        text_content = file.read()\n",
    "\n",
    "    sections = [\n",
    "        r'=== ([^\\n]+) ?Algorithm ==='\n",
    "    ]\n",
    "    results = []\n",
    "    for section in sections:\n",
    "        # Find all thread experiment sections\n",
    "        matches = list(re.finditer(section, text_content))\n",
    "        for match in matches:\n",
    "            start_pos = match.start()\n",
    "            \n",
    "            # Find the end of this experiment (next thread experiment or end of file)\n",
    "            next_match = None\n",
    "            for next_pattern in sections:\n",
    "                next_matches = list(re.finditer(next_pattern, text_content[start_pos + 10:]))\n",
    "                if next_matches:\n",
    "                    next_match = next_matches[0]\n",
    "                    break\n",
    "            \n",
    "            if next_match:\n",
    "                end_pos = start_pos + 10 + next_match.start()\n",
    "                experiment_text = text_content[start_pos:end_pos]\n",
    "            else:\n",
    "                experiment_text = text_content[start_pos:]\n",
    "            \n",
    "            \n",
    "            algorithms_patterns = r\"=== ([^\\n]+) ?Algorithm ===\"\n",
    "            mpi_processes_patterns = r\"MPI processes:\\s*(\\d+)\"\n",
    "            threads_patterns = r\"OpenMP threads per process:\\s*(\\d+)\"\n",
    "            time_patterns = r\"Total execution time:\\s*([\\d.]+)\\s*ms\"\n",
    "\n",
    "            algorithms_match = re.search(algorithms_patterns, experiment_text)\n",
    "            mpi_processes_match = re.search(mpi_processes_patterns, experiment_text)\n",
    "            threads_match = re.search(threads_patterns, experiment_text)\n",
    "            time_match = re.search(time_patterns, experiment_text)\n",
    "            if algorithms_match and mpi_processes_match and time_match:\n",
    "                result = {\n",
    "                    'algorithm': algorithms_match.group(1).strip(),\n",
    "                    'mpi_processes': int(mpi_processes_match.group(1)),\n",
    "                    'threads': int(threads_match.group(1)),\n",
    "                    'time(ms)': float(time_match.group(1).strip())\n",
    "                }\n",
    "                results.append(result)\n",
    "\n",
    "    return results"
   ]
  },
  {
   "cell_type": "code",
   "execution_count": 8,
   "id": "32431044",
   "metadata": {},
   "outputs": [
    {
     "data": {
      "application/vnd.microsoft.datawrangler.viewer.v0+json": {
       "columns": [
        {
         "name": "index",
         "rawType": "int64",
         "type": "integer"
        },
        {
         "name": "algorithm",
         "rawType": "object",
         "type": "string"
        },
        {
         "name": "mpi_processes",
         "rawType": "int64",
         "type": "integer"
        },
        {
         "name": "threads",
         "rawType": "int64",
         "type": "integer"
        },
        {
         "name": "time(ms)",
         "rawType": "float64",
         "type": "float"
        }
       ],
       "ref": "476380e5-fe6e-4e75-afd1-095d676d8c01",
       "rows": [
        [
         "0",
         "Simple Sliding Window",
         "4",
         "2",
         "25.0"
        ],
        [
         "1",
         "Smith-Waterman",
         "4",
         "2",
         "1435.0"
        ]
       ],
       "shape": {
        "columns": 4,
        "rows": 2
       }
      },
      "text/html": [
       "<div>\n",
       "<style scoped>\n",
       "    .dataframe tbody tr th:only-of-type {\n",
       "        vertical-align: middle;\n",
       "    }\n",
       "\n",
       "    .dataframe tbody tr th {\n",
       "        vertical-align: top;\n",
       "    }\n",
       "\n",
       "    .dataframe thead th {\n",
       "        text-align: right;\n",
       "    }\n",
       "</style>\n",
       "<table border=\"1\" class=\"dataframe\">\n",
       "  <thead>\n",
       "    <tr style=\"text-align: right;\">\n",
       "      <th></th>\n",
       "      <th>algorithm</th>\n",
       "      <th>mpi_processes</th>\n",
       "      <th>threads</th>\n",
       "      <th>time(ms)</th>\n",
       "    </tr>\n",
       "  </thead>\n",
       "  <tbody>\n",
       "    <tr>\n",
       "      <th>0</th>\n",
       "      <td>Simple Sliding Window</td>\n",
       "      <td>4</td>\n",
       "      <td>2</td>\n",
       "      <td>25.0</td>\n",
       "    </tr>\n",
       "    <tr>\n",
       "      <th>1</th>\n",
       "      <td>Smith-Waterman</td>\n",
       "      <td>4</td>\n",
       "      <td>2</td>\n",
       "      <td>1435.0</td>\n",
       "    </tr>\n",
       "  </tbody>\n",
       "</table>\n",
       "</div>"
      ],
      "text/plain": [
       "               algorithm  mpi_processes  threads  time(ms)\n",
       "0  Simple Sliding Window              4        2      25.0\n",
       "1         Smith-Waterman              4        2    1435.0"
      ]
     },
     "execution_count": 8,
     "metadata": {},
     "output_type": "execute_result"
    }
   ],
   "source": [
    "algorithm_result = parse_algorithm_results('algorithm_results.txt')\n",
    "algorithm_result_df = pd.DataFrame(algorithm_result)\n",
    "algorithm_result_df"
   ]
  },
  {
   "cell_type": "code",
   "execution_count": 9,
   "id": "ac72595a",
   "metadata": {},
   "outputs": [
    {
     "data": {
      "image/png": "[encoded data removed]",
      "text/plain": [
       "<Figure size 1000x600 with 1 Axes>"
      ]
     },
     "metadata": {},
     "output_type": "display_data"
    }
   ],
   "source": [
    "# Plotting\n",
    "thread_df.plot(x='threads', y='time(ms)', kind='bar', color='lightcoral', figsize=(10, 6))\n",
    "plt.title('Execution Time by Algorithm and Threads')\n",
    "plt.xlabel('Number of threads')\n",
    "plt.ylabel('Execution Time (ms)')\n",
    "plt.legend(title='Algorithm')\n",
    "plt.grid(True)\n",
    "# Text to show exact values on bars\n",
    "for i, row in thread_df.iterrows():\n",
    "    plt.text(i, row['time(ms)'] + 5, f\"{row['time(ms)']:.1f}\", ha='center')\n",
    "\n",
    "plt.show()"
   ]
  },
  {
   "cell_type": "code",
   "execution_count": 10,
   "id": "9bf80f8f",
   "metadata": {},
   "outputs": [
    {
     "data": {
      "image/png": "[encoded data removed]",
      "text/plain": [
       "<Figure size 1000x600 with 1 Axes>"
      ]
     },
     "metadata": {},
     "output_type": "display_data"
    }
   ],
   "source": [
    "# Plot result for scaling results\n",
    "fig, ax = plt.subplots(figsize=(10, 6))\n",
    "\n",
    "# Define colors for each algorithm\n",
    "colors = {'Simple Sliding Window': 'skyblue', \n",
    "          'Smith-Waterman Local Alignment': 'lightcoral'}\n",
    "\n",
    "# Create the bar plot with colors based on algorithm\n",
    "bars = ax.bar(range(len(scaling_result_df)), \n",
    "              scaling_result_df['time_ms'],\n",
    "              color=[colors[algo] for algo in scaling_result_df['algorithm']])\n",
    "\n",
    "# Set x-axis labels\n",
    "ax.set_xticks(range(len(scaling_result_df)))\n",
    "ax.set_xticklabels(scaling_result_df['mpi_processes'])\n",
    "\n",
    "plt.title('Execution Time by Algorithm and MPI Processes')\n",
    "plt.xlabel('Number of MPI Processes')\n",
    "plt.ylabel('Execution Time (ms)')\n",
    "plt.grid(True)\n",
    "\n",
    "# Add value labels on bars\n",
    "for i, (idx, row) in enumerate(scaling_result_df.iterrows()):\n",
    "    plt.text(i, row['time_ms'] + 50, f\"{row['time_ms']:.1f}\", ha='center')\n",
    "\n",
    "# Create custom legend\n",
    "from matplotlib.patches import Patch\n",
    "legend_elements = [Patch(facecolor=colors[algo], label=algo) \n",
    "                   for algo in colors.keys()]\n",
    "plt.legend(handles=legend_elements, title='Algorithm')\n",
    "\n",
    "plt.show()"
   ]
  },
  {
   "cell_type": "code",
   "execution_count": 11,
   "id": "d4c56998",
   "metadata": {},
   "outputs": [
    {
     "data": {
      "image/png": "[encoded data removed]",
      "text/plain": [
       "<Figure size 800x600 with 1 Axes>"
      ]
     },
     "metadata": {},
     "output_type": "display_data"
    }
   ],
   "source": [
    "# Plot with custom bar width\n",
    "fig, ax = plt.subplots(figsize=(8, 6))\n",
    "# Define colors for each algorithm\n",
    "colors = {'Simple Sliding Window': 'skyblue',\n",
    "          'Smith-Waterman': 'lightcoral'}\n",
    "\n",
    "# Plot bars with custom width\n",
    "bar_width = 0.2  # Default is 0.8\n",
    "ax.bar(algorithm_result_df.index, algorithm_result_df['time(ms)'], \n",
    "       color=[colors[alg] for alg in algorithm_result_df['algorithm']], width=bar_width)\n",
    "\n",
    "plt.title('Algorithm Performance Comparison')\n",
    "plt.xlabel('Experiment Index')\n",
    "plt.ylabel('Execution Time (ms)')\n",
    "# Add value labels on bars\n",
    "for i, (idx, row) in enumerate(algorithm_result_df.iterrows()):\n",
    "    plt.text(i, row['time(ms)'] + 5, f\"{row['time(ms)']:.1f}\", ha='center')\n",
    "plt.xticks(ticks=range(len(algorithm_result_df)), labels=algorithm_result_df['algorithm'])\n",
    "plt.grid(True)\n",
    "plt.show()\n"
   ]
  },
  {
   "cell_type": "code",
   "execution_count": null,
   "id": "f7001f67",
   "metadata": {},
   "outputs": [],
   "source": []
  }
 ],
 "metadata": {
  "kernelspec": {
   "display_name": "base",
   "language": "python",
   "name": "python3"
  },
  "language_info": {
   "codemirror_mode": {
    "name": "ipython",
    "version": 3
   },
   "file_extension": ".py",
   "mimetype": "text/x-python",
   "name": "python",
   "nbconvert_exporter": "python",
   "pygments_lexer": "ipython3",
   "version": "3.11.7"
  }
 },
 "nbformat": 4,
 "nbformat_minor": 5
}
